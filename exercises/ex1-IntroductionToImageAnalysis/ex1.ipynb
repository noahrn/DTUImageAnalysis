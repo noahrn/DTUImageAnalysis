{
 "cells": [
  {
   "cell_type": "code",
   "execution_count": null,
   "metadata": {},
   "outputs": [],
   "source": [
    "from skimage import color, io, measure, img_as_ubyte\n",
    "from skimage.measure import profile_line\n",
    "from skimage.transform import rescale, resize\n",
    "import matplotlib.pyplot as plt\n",
    "import numpy as np\n",
    "import pydicom as dicom\n",
    "import ipywidgets"
   ]
  },
  {
   "cell_type": "code",
   "execution_count": null,
   "metadata": {},
   "outputs": [],
   "source": [
    "# CMAPS\n",
    "# cool, hot, pink, copper, coolwarm, cubehelix, and terrain\n",
    "\n",
    "in_dir = \"data/\"\n",
    "\n",
    "im_name = \"metacarpals.png\"\n",
    "\n",
    "im_org = io.imread(in_dir + im_name)\n",
    "\n",
    "plt.imshow(im_org, cmap='gray')\n",
    "\n",
    "print(im_org.shape, im_org.dtype)"
   ]
  },
  {
   "cell_type": "code",
   "execution_count": null,
   "metadata": {},
   "outputs": [],
   "source": [
    "# change gray scale scaling with vmin and vmax\n",
    "# Autoscaling to the max and min values of the image\n",
    "plt.imshow(im_org, cmap='gray', vmin=np.min(im_org), vmax=np.max(im_org))"
   ]
  },
  {
   "cell_type": "code",
   "execution_count": null,
   "metadata": {},
   "outputs": [],
   "source": [
    "plt.rcParams['figure.figsize'] = [10, 5]\n",
    "h = plt.hist(im_org.ravel(), bins=256)\n",
    "plt.title(\"Histogram\")\n",
    "plt.show()"
   ]
  },
  {
   "cell_type": "code",
   "execution_count": null,
   "metadata": {},
   "outputs": [],
   "source": [
    "# value of a bin \n",
    "bin_no = 100\n",
    "count = h[0][bin_no]\n",
    "print(f\"Bin {bin_no} has {count} pixels\")"
   ]
  },
  {
   "cell_type": "code",
   "execution_count": null,
   "metadata": {},
   "outputs": [],
   "source": [
    "bin_left, bin_right = h[1][bin_no], h[1][bin_no+1]\n",
    "print(f'Bin edges: {bin_left} to {bin_right}')"
   ]
  },
  {
   "cell_type": "code",
   "execution_count": null,
   "metadata": {},
   "outputs": [],
   "source": [
    "# alternatively can be called with\n",
    "\n",
    "y,x,_ = plt.hist(im_org.ravel(), bins=256)"
   ]
  },
  {
   "cell_type": "code",
   "execution_count": null,
   "metadata": {},
   "outputs": [],
   "source": [
    "# find the max value of the histogram\n",
    "np.max(y), np.argmax(y)"
   ]
  },
  {
   "cell_type": "code",
   "execution_count": null,
   "metadata": {},
   "outputs": [],
   "source": [
    "# top n bins\n",
    "n = 5\n",
    "np.argpartition(y, -n)[-n:]"
   ]
  },
  {
   "cell_type": "markdown",
   "metadata": {},
   "source": [
    "# Pixel values and image coordinate systems"
   ]
  },
  {
   "cell_type": "code",
   "execution_count": null,
   "metadata": {},
   "outputs": [],
   "source": [
    "# value of a pixel at a given location (row, col)\n",
    "r = 110\n",
    "c = 90\n",
    "im_val = im_org[r,c]\n",
    "print(f\"Pixel value at ({r},{c}): {im_val}\")"
   ]
  },
  {
   "cell_type": "code",
   "execution_count": null,
   "metadata": {},
   "outputs": [],
   "source": [
    "im_copy = im_org.copy()\n",
    "# set the value of a pixel at a given location (row, col)\n",
    "im_copy[:10]=0\n",
    "plt.imshow(im_copy, cmap='gray')"
   ]
  },
  {
   "cell_type": "code",
   "execution_count": null,
   "metadata": {},
   "outputs": [],
   "source": [
    "mask = im_org > 150\n",
    "plt.imshow(mask, cmap='gray')\n",
    "plt.show()"
   ]
  },
  {
   "cell_type": "code",
   "execution_count": null,
   "metadata": {},
   "outputs": [],
   "source": [
    "# to apply the mask to the image and set the masked pixels to 255 (white)\n",
    "im_copy[mask] = 255\n",
    "plt.imshow(im_copy, cmap='gray')\n",
    "plt.show()"
   ]
  },
  {
   "cell_type": "code",
   "execution_count": null,
   "metadata": {},
   "outputs": [],
   "source": [
    "im_org = io.imread(in_dir + \"ardeche.jpg\")\n",
    "im_org.shape, im_org.dtype"
   ]
  },
  {
   "cell_type": "code",
   "execution_count": null,
   "metadata": {},
   "outputs": [],
   "source": [
    "# rgb at a given location (row, col)\n",
    "r = 110 \n",
    "c = 90\n",
    "im_org[r,c] "
   ]
  },
  {
   "cell_type": "code",
   "execution_count": null,
   "metadata": {},
   "outputs": [],
   "source": [
    "r = 110 \n",
    "c = 90\n",
    "im_org[r,c] = [255, 0, 0]\n",
    "plt.imshow(im_org)"
   ]
  },
  {
   "cell_type": "code",
   "execution_count": null,
   "metadata": {},
   "outputs": [],
   "source": [
    "# numpy slicing to color the upper half of the photo green\n",
    "im_copy = im_org.copy()\n",
    "im_copy[:im_org.shape[0]//2] = [0, 255, 0]\n",
    "plt.imshow(im_copy)"
   ]
  },
  {
   "cell_type": "markdown",
   "metadata": {},
   "source": [
    "# Working with your own image"
   ]
  },
  {
   "cell_type": "code",
   "execution_count": null,
   "metadata": {},
   "outputs": [],
   "source": [
    "im_org = io.imread(in_dir + \"own_photo.jpeg\")\n",
    "image_rescaled = rescale(im_org, 0.25, anti_aliasing=True,\n",
    "                         channel_axis=2)"
   ]
  },
  {
   "cell_type": "code",
   "execution_count": null,
   "metadata": {},
   "outputs": [],
   "source": [
    "plt.imshow(im_org)\n",
    "plt.show()\n",
    "plt.imshow(image_rescaled)\n",
    "plt.show()"
   ]
  },
  {
   "cell_type": "code",
   "execution_count": null,
   "metadata": {},
   "outputs": [],
   "source": [
    "im_org.shape, im_org.dtype, np.max(im_org), np.min(im_org)"
   ]
  },
  {
   "cell_type": "code",
   "execution_count": null,
   "metadata": {},
   "outputs": [],
   "source": [
    "image_rescaled.shape, image_rescaled.dtype, np.max(image_rescaled), np.min(image_rescaled)"
   ]
  },
  {
   "cell_type": "markdown",
   "metadata": {},
   "source": [
    "Rescaling the image changes the dtype to float64 and the pixel values to the range [0, 1]."
   ]
  },
  {
   "cell_type": "code",
   "execution_count": null,
   "metadata": {},
   "outputs": [],
   "source": [
    "image_resized = resize(im_org, (im_org.shape[0] // 4,\n",
    "                       im_org.shape[1] // 6),\n",
    "                       anti_aliasing=True)\n",
    "plt.imshow(image_resized)"
   ]
  },
  {
   "cell_type": "code",
   "execution_count": null,
   "metadata": {},
   "outputs": [],
   "source": [
    "# Finding a way to automatically scaling the image so the width is always equal to 400 pixels\n",
    "# and the height is adjusted accordingly\n",
    "\n",
    "ratio = 400 / im_org.shape[1]\n",
    "image_resized = resize(im_org, (int(im_org.shape[0] * ratio),\n",
    "                       int(im_org.shape[1] * ratio)),\n",
    "                       anti_aliasing=True)\n",
    "print(image_rescaled.shape)\n",
    "plt.imshow(image_resized)"
   ]
  },
  {
   "cell_type": "code",
   "execution_count": null,
   "metadata": {},
   "outputs": [],
   "source": [
    "# using the rescale function\n",
    "image_rescaled = rescale(im_org, ratio, anti_aliasing=True,\n",
    "                         channel_axis=2)\n",
    "print(image_rescaled.shape)\n",
    "plt.imshow(image_rescaled)"
   ]
  },
  {
   "cell_type": "code",
   "execution_count": null,
   "metadata": {},
   "outputs": [],
   "source": [
    "im_gray = color.rgb2gray(im_org)\n",
    "im_byte = img_as_ubyte(im_gray)\n",
    "im_byte.shape, im_byte.dtype, np.max(im_byte), np.min(im_byte)"
   ]
  },
  {
   "cell_type": "code",
   "execution_count": null,
   "metadata": {},
   "outputs": [],
   "source": [
    "plt.imshow(im_byte, cmap='gray')"
   ]
  },
  {
   "cell_type": "code",
   "execution_count": null,
   "metadata": {},
   "outputs": [],
   "source": [
    "plt.hist(im_byte.ravel(), bins=256)\n",
    "plt.show()"
   ]
  },
  {
   "cell_type": "code",
   "execution_count": null,
   "metadata": {},
   "outputs": [],
   "source": [
    "light_im = io.imread(in_dir + \"light_image.jpeg\")\n",
    "dark_im = io.imread(in_dir + \"dark_image.jpeg\")\n",
    "\n",
    "l_im_gray = color.rgb2gray(light_im)\n",
    "l_im_byte = img_as_ubyte(l_im_gray)\n",
    "\n",
    "d_im_gray = color.rgb2gray(dark_im)\n",
    "d_im_byte = img_as_ubyte(d_im_gray)\n",
    "\n",
    "h1 = plt.hist(l_im_byte.ravel(), bins=256, alpha=0.7, label=\"light image\")\n",
    "h2 = plt.hist(d_im_byte.ravel(), bins=256, alpha=0.7, label=\"dark image\")\n",
    "plt.legend()\n",
    "plt.show()"
   ]
  },
  {
   "cell_type": "markdown",
   "metadata": {},
   "source": [
    "# Color channels"
   ]
  },
  {
   "cell_type": "code",
   "execution_count": null,
   "metadata": {},
   "outputs": [],
   "source": [
    "im_org = io.imread(in_dir + \"DTUSign1.jpg\")\n",
    "plt.imshow(im_org)\n",
    "\n",
    "channels = ['R', 'G', 'B']\n",
    "color_comps = [im_org[:,:,i] for i in range(3)]\n",
    "\n",
    "fig, axs = plt.subplots(1, 3, figsize=(12, 4))\n",
    "for i, comp in enumerate(color_comps):\n",
    "    axs[i].imshow(comp, cmap='gray')\n",
    "    axs[i].set_title(channels[i])\n",
    "    axs[i].set_xticks([])\n",
    "    axs[i].set_yticks([])\n",
    "\n",
    "plt.show()"
   ]
  },
  {
   "cell_type": "markdown",
   "metadata": {},
   "source": [
    "The sign is barely visible in the red channel, but it is clearly visible in the green and blue channel.\n",
    "The wall behind is the same color in all channels, so it is white in the red, green and blue channel."
   ]
  },
  {
   "cell_type": "markdown",
   "metadata": {},
   "source": [
    "# Simple image manipulations"
   ]
  },
  {
   "cell_type": "code",
   "execution_count": null,
   "metadata": {},
   "outputs": [],
   "source": [
    "# lets put in a blue rectangle\n",
    "im_org[500:1000, 800:1500, :] = [0, 0, 255]\n",
    "plt.imshow(im_org)"
   ]
  },
  {
   "cell_type": "code",
   "execution_count": null,
   "metadata": {},
   "outputs": [],
   "source": [
    "# automatically create an image based on metacarpals.png where the bones are colored blue. \n",
    "# You should use color.gray2rgb and pixel masks.\n",
    "\n",
    "im_org = io.imread(in_dir + \"metacarpals.png\")\n",
    "bone = im_org > 145\n",
    "plt.imshow(bone, cmap='gray')"
   ]
  },
  {
   "cell_type": "code",
   "execution_count": null,
   "metadata": {},
   "outputs": [],
   "source": [
    "im_color = color.gray2rgb(im_org)\n",
    "im_color[bone] = [0, 0, 255]\n",
    "plt.imshow(im_color)"
   ]
  },
  {
   "cell_type": "markdown",
   "metadata": {},
   "source": [
    "# Advanced Image Visualization"
   ]
  },
  {
   "cell_type": "code",
   "execution_count": null,
   "metadata": {},
   "outputs": [],
   "source": [
    "p = profile_line(im_org, (342, 77), (32, 160))\n",
    "plt.plot(p)\n",
    "plt.ylabel(\"Intensity\")\n",
    "plt.xlabel(\"Distance along line\")\n",
    "plt.show()"
   ]
  },
  {
   "cell_type": "code",
   "execution_count": 71,
   "metadata": {},
   "outputs": [],
   "source": [
    "from ipywidgets import interactive\n",
    "\n",
    "def update_profile_line(start_x, start_y, end_x, end_y):\n",
    "    p = profile_line(im_org, (start_x, start_y), (end_x, end_y))\n",
    "    \n",
    "    plt.clf()\n",
    "    plt.plot(p)\n",
    "    plt.ylabel(\"Intensity\")\n",
    "    plt.xlabel(\"Distance along line\")\n",
    "    plt.show()\n",
    "\n",
    "interactive_plot = interactive(update_profile_line,\n",
    "                               start_x=(0, im_org.shape[1]-1),\n",
    "                               start_y=(0, im_org.shape[0]-1),\n",
    "                               end_x=(0, im_org.shape[1]-1),\n",
    "                               end_y=(0, im_org.shape[0]-1))\n",
    "\n",
    "output = interactive_plot.children[-1]\n",
    "output.layout.height = '350px'\n",
    "interactive_plot"
   ]
  },
  {
   "cell_type": "code",
   "execution_count": null,
   "metadata": {},
   "outputs": [],
   "source": [
    "im_org = io.imread(in_dir + \"road.png\")\n",
    "im_gray = color.rgb2gray(im_org)\n",
    "\n",
    "ll = 200\n",
    "im_crop = im_gray[40:40+ll, 150:150+ll]\n",
    "xx,yy= np.mgrid[0:im_crop.shape[0], 0:im_crop.shape[1]]\n",
    "fig, ax = plt.subplots(subplot_kw={'projection': '3d'})\n",
    "surf = ax.plot_surface(xx, yy, im_crop, rstride=1, cstride=1,cmap='jet', linewidth=0)\n",
    "fig.colorbar(surf, shrink=0.5, aspect=5)\n",
    "plt.show()"
   ]
  },
  {
   "cell_type": "code",
   "execution_count": null,
   "metadata": {},
   "outputs": [],
   "source": [
    "from matplotlib import animation\n",
    "\n",
    "# create figure and 3D axis\n",
    "fig = plt.figure()\n",
    "ax = fig.add_subplot(111, projection='3d')\n",
    "\n",
    "# create surface plot\n",
    "surf = ax.plot_surface(xx, yy, im_crop, rstride=1, cstride=1, cmap='jet', linewidth=0)\n",
    "\n",
    "# define animation function\n",
    "def rotate(angle):\n",
    "    ax.view_init(30, angle)\n",
    "    \n",
    "# create animation\n",
    "ani = animation.FuncAnimation(fig, rotate, frames=np.arange(0, 360, 10), interval=50)\n",
    "\n",
    "# save animation as gif\n",
    "ani.save('animation.gif', writer='Pillow')\n",
    "\n",
    "# display gif in output\n",
    "from IPython.display import HTML\n",
    "HTML('<img src=\"animation.gif\">')"
   ]
  },
  {
   "cell_type": "markdown",
   "metadata": {},
   "source": [
    "# DICOM images"
   ]
  },
  {
   "cell_type": "code",
   "execution_count": null,
   "metadata": {},
   "outputs": [],
   "source": [
    "ds = dicom.dcmread(in_dir + \"1-442.dcm\")\n",
    "print(ds)"
   ]
  },
  {
   "cell_type": "code",
   "execution_count": null,
   "metadata": {},
   "outputs": [],
   "source": [
    "# number of rows and columns\n",
    "ds.Rows, ds.Columns"
   ]
  },
  {
   "cell_type": "code",
   "execution_count": null,
   "metadata": {},
   "outputs": [],
   "source": [
    "np.max(ds.pixel_array), np.min(ds.pixel_array)"
   ]
  },
  {
   "cell_type": "code",
   "execution_count": null,
   "metadata": {},
   "outputs": [],
   "source": [
    "im = ds.pixel_array\n",
    "plt.imshow(im, vmin=-1000, vmax=1000, cmap='gray')\n",
    "plt.show()"
   ]
  }
 ],
 "metadata": {
  "kernelspec": {
   "display_name": "course02502",
   "language": "python",
   "name": "python3"
  },
  "language_info": {
   "codemirror_mode": {
    "name": "ipython",
    "version": 3
   },
   "file_extension": ".py",
   "mimetype": "text/x-python",
   "name": "python",
   "nbconvert_exporter": "python",
   "pygments_lexer": "ipython3",
   "version": "3.9.11"
  },
  "orig_nbformat": 4
 },
 "nbformat": 4,
 "nbformat_minor": 2
}
