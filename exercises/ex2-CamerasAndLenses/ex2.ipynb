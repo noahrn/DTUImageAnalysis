{
 "cells": [
  {
   "cell_type": "code",
   "execution_count": 47,
   "metadata": {},
   "outputs": [],
   "source": [
    "import math\n",
    "import numpy as np\n",
    "import matplotlib.pyplot as plt\n",
    "from scipy import optimize\n",
    "from IPython.display import Image"
   ]
  },
  {
   "cell_type": "markdown",
   "metadata": {},
   "source": [
    "### Exercise 1\n",
    "\n",
    "Explain how to calculate the angle $\\theta$ when $a$ and $b$ is given\n",
    "in the figure below. Calculate $\\theta$ (in degrees) when\n",
    "$a = 10$ and $b=3$ using the function `math.atan2()`. Remember to import `math` and find out what `atan2` does.\n",
    "\n",
    "![Angle in triangel](figures/ArcTangens.png)"
   ]
  },
  {
   "cell_type": "code",
   "execution_count": 48,
   "metadata": {},
   "outputs": [
    {
     "name": "stdout",
     "output_type": "stream",
     "text": [
      "0.2914567944778671\n"
     ]
    }
   ],
   "source": [
    "def theta(a, b):\n",
    "    return math.atan2(b, a)\n",
    "\n",
    "print(theta(10, 3))"
   ]
  },
  {
   "cell_type": "markdown",
   "metadata": {},
   "source": [
    "### Exercise 2\n",
    "\n",
    "Create a Python function called `camera_b_distance`.\n",
    "\n",
    "The function should accept two arguments, a focal length f and an\n",
    "object distance g. It should return the distance from the lens to\n",
    "where the rays are focused (b) (where the CCD should be placed)\n",
    "\n",
    "The function should start like this:\n",
    "\n",
    "```python\n",
    "def camera_b_distance(f, g):\n",
    "    \"\"\"\n",
    "    camera_b_distance returns the distance (b) where the CCD should be placed\n",
    "    when the object distance (g) and the focal length (f) are given\n",
    "    :param f: Focal length\n",
    "    :param g: Object distance\n",
    "    :return: b, the distance where the CCD should be placed\n",
    "    \"\"\"\n",
    "```\n",
    "\n",
    "It should be based on Gauss' lens equation:\n",
    "$$\\frac{1}{g} + \\frac{1}{b} = \\frac{1}{f}$$\n",
    "\n",
    "You should decide if your function should calculate distances in mm or\n",
    "in meters, but remember to be consistent!\n",
    "\n",
    "Use your function to find out where the CCD should be placed when the\n",
    "focal length is 15 mm and the object distance is 0.1, 1, 5, and 15\n",
    "meters.\n",
    "\n",
    "What happens to the place of the CCD when the object distance is increased?"
   ]
  },
  {
   "cell_type": "code",
   "execution_count": 49,
   "metadata": {},
   "outputs": [],
   "source": [
    "def camera_b_distance(f, g):\n",
    "    # f: focal length (in millimeters)\n",
    "    # g: distance from camera to object (in millimeters)\n",
    "    \n",
    "    b = 1 / (1/f - 1/g)\n",
    "    \n",
    "    if b > 0:\n",
    "        position = \"millimeters in front of\"\n",
    "    else:\n",
    "        position = \"millimeters behind\"\n",
    "        b = abs(b)\n",
    "        \n",
    "    return f\"{b} {position} the lens\""
   ]
  },
  {
   "cell_type": "code",
   "execution_count": 50,
   "metadata": {},
   "outputs": [
    {
     "name": "stdout",
     "output_type": "stream",
     "text": [
      "For an object distance of 100 millimeters, the CCD should be placed 17.647058823529413 millimeters in front of the lens.\n",
      "For an object distance of 1000 millimeters, the CCD should be placed 15.228426395939087 millimeters in front of the lens.\n",
      "For an object distance of 5000 millimeters, the CCD should be placed 15.045135406218657 millimeters in front of the lens.\n",
      "For an object distance of 15000 millimeters, the CCD should be placed 15.015015015015017 millimeters in front of the lens.\n"
     ]
    }
   ],
   "source": [
    "focal_length = 15  # in millimeters\n",
    "object_distances = [100, 1000, 5000, 15000]  # converted to millimeters\n",
    "\n",
    "for g in object_distances:\n",
    "    position = camera_b_distance(focal_length, g)\n",
    "    print(f\"For an object distance of {g} millimeters, the CCD should be placed {position}.\")"
   ]
  },
  {
   "cell_type": "markdown",
   "metadata": {},
   "source": [
    "## Camera exercise\n",
    "\n",
    "In the following exercise, you should remember to explain when\n",
    "something is in mm and when it is in meters. To convert between\n",
    "radians and degrees you can use:\n",
    "\n",
    "```\n",
    "angle_degrees = 180.0 / math.pi * angle_radians\n",
    "```\n",
    "\n",
    "### Exercise 3\n",
    "\n",
    "Thomas is 1.8 meters tall and standing 5 meters from a camera. The\n",
    "cameras focal length is 5 mm. The CCD in the camera can be seen in\n",
    "the figure below. It is a 1/2\" (inches) CCD chip and the\n",
    "image formed by the CCD is 640x480 pixels in a (x,y) coordinate system.\n",
    "\n",
    "![CCD chip](figures/CCDChip.png)\n",
    "\n",
    "It is easiest to start by drawing the scene. The scene should\n",
    "contain the optical axis, the optical center, the lens, the focal\n",
    "point, the CCD chip, and Thomas. Do it on paper or even better in a\n",
    "drawing program.\n",
    "\n",
    "1. A focused image of Thomas is formed inside the camera. At which distance from the lens?\n",
    "2. How tall (in mm) will Thomas be on the CCD-chip?\n",
    "3. What is the size of a single pixel on the CCD chip? (in mm)?\n",
    "4. How tall (in pixels) will Thomas be on the CCD-chip?\n",
    "5. What is the horizontal field-of-view (in degrees)?\n",
    "6. What is the vertical field-of-view (in degrees)?\n"
   ]
  },
  {
   "cell_type": "code",
   "execution_count": 51,
   "metadata": {},
   "outputs": [],
   "source": [
    "# Given\n",
    "f = 5  # focal length in mm\n",
    "g = 5000  # distance from camera to Thomas in mm\n",
    "ho = 1800  # Thomas height in mm"
   ]
  },
  {
   "cell_type": "code",
   "execution_count": 52,
   "metadata": {},
   "outputs": [
    {
     "name": "stdout",
     "output_type": "stream",
     "text": [
      "5.005005005005005 millimeters in front of the lens\n"
     ]
    }
   ],
   "source": [
    "# 1 \n",
    "# Calculate the distance from the camera to the image of Thomas\n",
    "\n",
    "print(camera_b_distance(f, g))"
   ]
  },
  {
   "cell_type": "code",
   "execution_count": 53,
   "metadata": {},
   "outputs": [
    {
     "name": "stdout",
     "output_type": "stream",
     "text": [
      "Thomas will be 1800000.0 mm tall on the CCD-chip.\n"
     ]
    }
   ],
   "source": [
    "# 2 \n",
    "# Calculate the height of the image of Thomas on the CCD-chip\n",
    "\n",
    "hi = (ho * 1/f) / (1/g)\n",
    "\n",
    "\n",
    "print(f\"Thomas will be {hi} mm tall on the CCD-chip.\")"
   ]
  },
  {
   "cell_type": "code",
   "execution_count": 54,
   "metadata": {},
   "outputs": [
    {
     "name": "stdout",
     "output_type": "stream",
     "text": [
      "Size of a single pixel is 0.009525mm x 0.0127mm.\n"
     ]
    }
   ],
   "source": [
    "# 3\n",
    "# Calculate the size of a single pixel\n",
    "\n",
    "CCD_diagonal = 12.7  # in mm\n",
    "W = (4/5) * math.sqrt(CCD_diagonal**2 / (1 + (4/3)**2))\n",
    "H = (3/5) * math.sqrt(CCD_diagonal**2 / (1 + (3/4)**2))\n",
    "pixel_width = W / 640\n",
    "pixel_height = H / 480\n",
    "\n",
    "print(f\"Size of a single pixel is {pixel_width}mm x {pixel_height}mm.\")"
   ]
  },
  {
   "cell_type": "code",
   "execution_count": 55,
   "metadata": {},
   "outputs": [
    {
     "name": "stdout",
     "output_type": "stream",
     "text": [
      "Thomas will be 141732283.46456695 pixels tall on the CCD-chip.\n"
     ]
    }
   ],
   "source": [
    "# 4\n",
    "# Calculate the height of the image of Thomas in pixels\n",
    "\n",
    "hipixels = hi / pixel_height\n",
    "\n",
    "print(f\"Thomas will be {hipixels} pixels tall on the CCD-chip.\")\n"
   ]
  },
  {
   "cell_type": "code",
   "execution_count": 56,
   "metadata": {},
   "outputs": [],
   "source": [
    "def theta(a, b):\n",
    "    return math.atan2(b, a)"
   ]
  },
  {
   "cell_type": "code",
   "execution_count": 57,
   "metadata": {},
   "outputs": [
    {
     "name": "stdout",
     "output_type": "stream",
     "text": [
      "The horizontal field-of-view is 62.73296998906113 degrees.\n"
     ]
    }
   ],
   "source": [
    "# 5\n",
    "# Calculate the horisontal field-of-view\n",
    "\n",
    "angle_horizontal_rad = 2 * theta(f, W/2)\n",
    "angle_horizontal_deg = 180.0 / math.pi * angle_horizontal_rad\n",
    "\n",
    "print(f\"The horizontal field-of-view is {angle_horizontal_deg} degrees.\")"
   ]
  },
  {
   "cell_type": "code",
   "execution_count": 58,
   "metadata": {},
   "outputs": [
    {
     "name": "stdout",
     "output_type": "stream",
     "text": [
      "The vertical field-of-view is 62.73296998906113 degrees.\n"
     ]
    }
   ],
   "source": [
    "# 6\n",
    "# Calculate the vertical field-of-view\n",
    "\n",
    "angle_vertical_rad = 2 * theta(f, H/2)\n",
    "angle_vertical_deg = 180.0 / math.pi * angle_vertical_rad\n",
    "\n",
    "print(f\"The vertical field-of-view is {angle_vertical_deg} degrees.\")"
   ]
  }
 ],
 "metadata": {
  "kernelspec": {
   "display_name": "dtu",
   "language": "python",
   "name": "python3"
  },
  "language_info": {
   "codemirror_mode": {
    "name": "ipython",
    "version": 3
   },
   "file_extension": ".py",
   "mimetype": "text/x-python",
   "name": "python",
   "nbconvert_exporter": "python",
   "pygments_lexer": "ipython3",
   "version": "3.9.11"
  },
  "orig_nbformat": 4
 },
 "nbformat": 4,
 "nbformat_minor": 2
}
